{
 "cells": [
  {
   "cell_type": "markdown",
   "metadata": {},
   "source": [
    "1. folder是用絕對路徑寫的，要記得改\n",
    "2. 然後folder的結構是有mass train和 mass test\n",
    "3. 實作是將兩個folder裡面都各自創benign和malignant的folder，然後把對應的crop image放到裡面"
   ]
  },
  {
   "cell_type": "code",
   "execution_count": 5,
   "metadata": {},
   "outputs": [],
   "source": [
    "import pydicom\n",
    "import cv2\n",
    "import numpy as np\n",
    "import pandas as pd\n",
    "import csv\n",
    "import os"
   ]
  },
  {
   "cell_type": "markdown",
   "metadata": {},
   "source": [
    "if you are running train, run this code"
   ]
  },
  {
   "cell_type": "code",
   "execution_count": 9,
   "metadata": {},
   "outputs": [
    {
     "name": "stdout",
     "output_type": "stream",
     "text": [
      "637\n",
      "577\n",
      "147\n",
      "194\n"
     ]
    }
   ],
   "source": [
    "#clinical_train_path = os.path.join(\"D:\",\"mass detection\",\"mass train\",\"mass_case_description_train_set.csv\")\n",
    "#clinical_test_path = os.path.join(\"D:\",\"mass detection\",\"mass test\",\"mass_case_description_test_set.csv\")\n",
    "#metadata_train_path = os.path.join(\"D:\",\"mass detection\",\"mass train\",\"metadata.csv\")\n",
    "#metadata_test_path = os.path.join(\"D:\",\"mass detection\",\"mass test\",\"metadata.csv\")\n",
    "#train_image_path = os.path.join(\"D:\",\"mass detection\",\"mass train\")\n",
    "#test_image_path = os.path.join(\"D:\",\"mass detection\",\"mass test\")\n",
    "#malignant_image_path = os.path.join(\"D:\",\"mass detection\",\"mass train\",\"malignant\")\n",
    "#benign_image_path = os.path.join(\"D:\",\"mass detection\",\"mass train\",\"benign\")\n",
    "clinical_train_path = r\"C:\\Users\\y9109\\Desktop\\nthu\\junior1\\ml\\project\\ML_Team28\\datasets\\table\\mass_case_description_train_set.csv\"\n",
    "clinical_test_path = r\"C:\\Users\\y9109\\Desktop\\nthu\\junior1\\ml\\project\\ML_Team28\\datasets\\table\\mass_case_description_test_set.csv\"\n",
    "metadata_train_path = r\"C:\\Users\\y9109\\Desktop\\nthu\\junior1\\ml\\project\\ML_Team28\\datasets\\table\\metadata.csv\"\n",
    "metadata_test_path = r\"C:\\Users\\y9109\\Desktop\\nthu\\junior1\\ml\\project\\ML_Team28\\datasets\\table\\metadata.csv\"\n",
    "train_image_path = r\"C:\\Users\\y9109\\Desktop\\nthu\\junior1\\ml\\project\\manifest-ZkhPvrLo5216730872708713142\"\n",
    "#test_image_path =\n",
    "\n",
    "clinical_train = pd.read_csv(clinical_train_path, dtype=str)\n",
    "clinical_test = pd.read_csv(clinical_test_path, dtype=str)\n",
    "metadata_train = pd.read_csv(metadata_train_path, dtype=str)\n",
    "metadata_test = pd.read_csv(metadata_test_path, dtype=str)\n",
    "\n",
    "#metadata_train = metadata_train[Mass-Training' in 'metadata_train['Subject ID']]\n",
    "#metadata_test = metadata_test['Mass-Test' in metadata_test['Subject ID']]\n",
    "metadata_train = metadata_train[metadata_train['Subject ID'].str.contains('Mass-Training')]\n",
    "metadata_test = metadata_test[metadata_test['Subject ID'].str.contains('Mass-Test')]\n",
    "\n",
    "image_path = os.path.join(\"..\",\"..\",\"datasets\",\"image\",\"ROI_training_png\")\n",
    "\n",
    "print(np.sum(clinical_train[\"pathology\"] == \"MALIGNANT\"))\n",
    "print(np.sum(clinical_train[\"pathology\"] == \"BENIGN\"))\n",
    "print(np.sum(clinical_test[\"pathology\"] == \"MALIGNANT\"))\n",
    "print(np.sum(clinical_test[\"pathology\"] == \"BENIGN\"))\n",
    "#label = []\n",
    "#subjectID = []\n",
    "#for i,data in enumerate(clinical_train.iloc):\n",
    "#    val = \"malignant\" if data[\"pathology\"] == \"MALIGNANT\" else \"benign\"\n",
    "#    subjectID.append(data[\"cropped image file path\"].split(\"/\")[0])\n",
    "#    label.append(val)\n",
    "for i,data in enumerate(metadata_train.iloc):\n",
    "    dcm_pth = train_image_path + data[\"File Location\"][1:]\n",
    "    ID = data[\"Subject ID\"]\n",
    "    for j,filename in enumerate(os.listdir(dcm_pth)): \n",
    "        #index = subjectID.index(ID)\n",
    "        png_pth = image_path + \"\\\\\"\n",
    "        #if label[i] == \"malignant\":\n",
    "        #    png_pth = malignant_image_path + \"\\\\\"\n",
    "        #else:\n",
    "        #    png_pth = benign_image_path + \"\\\\\"\n",
    "        png_pth = png_pth + ID + \"-\" + filename[:-4] + \".png\"\n",
    "        dicom_image = pydicom.dcmread(dcm_pth + \"\\\\\" + filename)\n",
    "        if dicom_image[(\"0008\", \"103e\")].value == \"cropped images\":\n",
    "            cv2.imwrite(png_pth, dicom_image.pixel_array)"
   ]
  },
  {
   "cell_type": "markdown",
   "metadata": {},
   "source": [
    "if you are running test, run this code"
   ]
  },
  {
   "cell_type": "code",
   "execution_count": null,
   "metadata": {},
   "outputs": [],
   "source": [
    "label = []\n",
    "subjectID = []\n",
    "malignant_image_path = os.path.join(\"D:\",\"mass detection\",\"mass test\",\"malignant\")\n",
    "benign_image_path = os.path.join(\"D:\",\"mass detection\",\"mass test\",\"benign\")\n",
    "for i,data in enumerate(clinical_test.iloc):\n",
    "    val = \"malignant\" if data[\"pathology\"] == \"MALIGNANT\" else \"benign\"\n",
    "    subjectID.append(data[\"cropped image file path\"].split(\"/\")[0])\n",
    "    label.append(val)\n",
    "for i,data in enumerate(metadata_test.iloc):\n",
    "    dcm_pth = test_image_path + data[\"File Location\"][1:]\n",
    "    ID = data[\"Subject ID\"]\n",
    "    for j,filename in enumerate(os.listdir(dcm_pth)): \n",
    "        index = subjectID.index(ID)\n",
    "        if label[i] == \"malignant\":\n",
    "            png_pth = malignant_image_path + \"\\\\\"\n",
    "        else:\n",
    "            png_pth = benign_image_path + \"\\\\\"\n",
    "        png_pth = png_pth + ID + \"-\" + filename[:-4] + \".png\"\n",
    "        dicom_image = pydicom.dcmread(dcm_pth + \"\\\\\" + filename)\n",
    "        if dicom_image[(\"0008\", \"103e\")].value == \"cropped images\":\n",
    "            cv2.imwrite(png_pth, dicom_image.pixel_array)"
   ]
  }
 ],
 "metadata": {
  "kernelspec": {
   "display_name": "Python 3",
   "language": "python",
   "name": "python3"
  },
  "language_info": {
   "codemirror_mode": {
    "name": "ipython",
    "version": 3
   },
   "file_extension": ".py",
   "mimetype": "text/x-python",
   "name": "python",
   "nbconvert_exporter": "python",
   "pygments_lexer": "ipython3",
   "version": "3.11.1"
  }
 },
 "nbformat": 4,
 "nbformat_minor": 2
}
