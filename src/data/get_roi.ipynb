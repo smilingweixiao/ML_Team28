{
 "cells": [
  {
   "cell_type": "markdown",
   "metadata": {},
   "source": [
    "1. folder是用絕對路徑寫的，要記得改\n",
    "2. 然後folder的結構是有mass train和 mass test\n",
    "3. 實作是將兩個folder裡面都各自創benign和malignant的folder，然後把對應的crop image放到裡面"
   ]
  },
  {
   "cell_type": "code",
   "execution_count": null,
   "metadata": {},
   "outputs": [],
   "source": [
    "import pydicom\n",
    "import cv2\n",
    "import numpy as np\n",
    "import pandas as pd\n",
    "import csv\n",
    "import os"
   ]
  },
  {
   "cell_type": "markdown",
   "metadata": {},
   "source": [
    "if you are running train, run this code"
   ]
  },
  {
   "cell_type": "code",
   "execution_count": null,
   "metadata": {},
   "outputs": [],
   "source": [
    "clinical_train_path = os.path.join(\"D:\",\"mass detection\",\"mass train\",\"mass_case_description_train_set.csv\")\n",
    "clinical_test_path = os.path.join(\"D:\",\"mass detection\",\"mass test\",\"mass_case_description_test_set.csv\")\n",
    "metadata_train_path = os.path.join(\"D:\",\"mass detection\",\"mass train\",\"metadata.csv\")\n",
    "metadata_test_path = os.path.join(\"D:\",\"mass detection\",\"mass test\",\"metadata.csv\")\n",
    "train_image_path = os.path.join(\"D:\",\"mass detection\",\"mass train\")\n",
    "test_image_path = os.path.join(\"D:\",\"mass detection\",\"mass test\")\n",
    "malignant_image_path = os.path.join(\"D:\",\"mass detection\",\"mass train\",\"malignant\")\n",
    "benign_image_path = os.path.join(\"D:\",\"mass detection\",\"mass train\",\"benign\")\n",
    "clinical_train = pd.read_csv(clinical_train_path, dtype=str)\n",
    "clinical_test = pd.read_csv(clinical_test_path, dtype=str)\n",
    "metadata_train = pd.read_csv(metadata_train_path, dtype=str)\n",
    "metadata_test = pd.read_csv(metadata_test_path, dtype=str)\n",
    "print(np.sum(clinical_train[\"pathology\"] == \"MALIGNANT\"))\n",
    "print(np.sum(clinical_train[\"pathology\"] == \"BENIGN\"))\n",
    "print(np.sum(clinical_test[\"pathology\"] == \"MALIGNANT\"))\n",
    "print(np.sum(clinical_test[\"pathology\"] == \"BENIGN\"))\n",
    "label = []\n",
    "subjectID = []\n",
    "for i,data in enumerate(clinical_train.iloc):\n",
    "    val = \"malignant\" if data[\"pathology\"] == \"MALIGNANT\" else \"benign\"\n",
    "    subjectID.append(data[\"cropped image file path\"].split(\"/\")[0])\n",
    "    label.append(val)\n",
    "for i,data in enumerate(metadata_train.iloc):\n",
    "    dcm_pth = train_image_path + data[\"File Location\"][1:]\n",
    "    ID = data[\"Subject ID\"]\n",
    "    for j,filename in enumerate(os.listdir(dcm_pth)): \n",
    "        index = subjectID.index(ID)\n",
    "        if label[i] == \"malignant\":\n",
    "            png_pth = malignant_image_path + \"\\\\\"\n",
    "        else:\n",
    "            png_pth = benign_image_path + \"\\\\\"\n",
    "        png_pth = png_pth + ID + \"-\" + filename[:-4] + \".png\"\n",
    "        dicom_image = pydicom.dcmread(dcm_pth + \"\\\\\" + filename)\n",
    "        if dicom_image[(\"0008\", \"103e\")].value == \"cropped images\":\n",
    "            cv2.imwrite(png_pth, dicom_image.pixel_array)"
   ]
  },
  {
   "cell_type": "markdown",
   "metadata": {},
   "source": [
    "if you are running test, run this code"
   ]
  },
  {
   "cell_type": "code",
   "execution_count": null,
   "metadata": {},
   "outputs": [],
   "source": [
    "label = []\n",
    "subjectID = []\n",
    "malignant_image_path = os.path.join(\"D:\",\"mass detection\",\"mass test\",\"malignant\")\n",
    "benign_image_path = os.path.join(\"D:\",\"mass detection\",\"mass test\",\"benign\")\n",
    "for i,data in enumerate(clinical_test.iloc):\n",
    "    val = \"malignant\" if data[\"pathology\"] == \"MALIGNANT\" else \"benign\"\n",
    "    subjectID.append(data[\"cropped image file path\"].split(\"/\")[0])\n",
    "    label.append(val)\n",
    "for i,data in enumerate(metadata_test.iloc):\n",
    "    dcm_pth = test_image_path + data[\"File Location\"][1:]\n",
    "    ID = data[\"Subject ID\"]\n",
    "    for j,filename in enumerate(os.listdir(dcm_pth)): \n",
    "        index = subjectID.index(ID)\n",
    "        if label[i] == \"malignant\":\n",
    "            png_pth = malignant_image_path + \"\\\\\"\n",
    "        else:\n",
    "            png_pth = benign_image_path + \"\\\\\"\n",
    "        png_pth = png_pth + ID + \"-\" + filename[:-4] + \".png\"\n",
    "        dicom_image = pydicom.dcmread(dcm_pth + \"\\\\\" + filename)\n",
    "        if dicom_image[(\"0008\", \"103e\")].value == \"cropped images\":\n",
    "            cv2.imwrite(png_pth, dicom_image.pixel_array)"
   ]
  }
 ],
 "metadata": {
  "language_info": {
   "name": "python"
  }
 },
 "nbformat": 4,
 "nbformat_minor": 2
}
