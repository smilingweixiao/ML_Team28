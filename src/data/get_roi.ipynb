{
 "cells": [
  {
   "cell_type": "markdown",
   "metadata": {},
   "source": [
    "1. folder是用絕對路徑寫的，要記得改\n",
    "2. 然後folder的結構是有mass train和 mass test\n",
    "3. 實作是將兩個folder裡面都各自創benign和malignant的folder，然後把對應的crop image放到裡面"
   ]
  },
  {
   "cell_type": "code",
   "execution_count": 1,
   "metadata": {},
   "outputs": [],
   "source": [
    "import pydicom\n",
    "import cv2\n",
    "import numpy as np\n",
    "import pandas as pd\n",
    "import csv\n",
    "import os"
   ]
  },
  {
   "cell_type": "markdown",
   "metadata": {},
   "source": [
    "if you are running train, run this code"
   ]
  },
  {
   "cell_type": "code",
   "execution_count": 27,
   "metadata": {},
   "outputs": [
    {
     "name": "stdout",
     "output_type": "stream",
     "text": [
      "637\n",
      "577\n",
      "147\n",
      "194\n"
     ]
    },
    {
     "ename": "IndexError",
     "evalue": "list index out of range",
     "output_type": "error",
     "traceback": [
      "\u001b[0;31m---------------------------------------------------------------------------\u001b[0m",
      "\u001b[0;31mIndexError\u001b[0m                                Traceback (most recent call last)",
      "\u001b[0;32m<ipython-input-27-8148a1ef3443>\u001b[0m in \u001b[0;36m<module>\u001b[0;34m\u001b[0m\n\u001b[1;32m     32\u001b[0m             \u001b[0;32mcontinue\u001b[0m\u001b[0;34m\u001b[0m\u001b[0;34m\u001b[0m\u001b[0m\n\u001b[1;32m     33\u001b[0m         \u001b[0mindex\u001b[0m \u001b[0;34m=\u001b[0m \u001b[0msubjectID\u001b[0m\u001b[0;34m.\u001b[0m\u001b[0mindex\u001b[0m\u001b[0;34m(\u001b[0m\u001b[0mID\u001b[0m\u001b[0;34m)\u001b[0m\u001b[0;34m\u001b[0m\u001b[0;34m\u001b[0m\u001b[0m\n\u001b[0;32m---> 34\u001b[0;31m         \u001b[0;32mif\u001b[0m \u001b[0mlabel\u001b[0m\u001b[0;34m[\u001b[0m\u001b[0mi\u001b[0m\u001b[0;34m]\u001b[0m \u001b[0;34m==\u001b[0m \u001b[0;34m\"malignant\"\u001b[0m\u001b[0;34m:\u001b[0m\u001b[0;34m\u001b[0m\u001b[0;34m\u001b[0m\u001b[0m\n\u001b[0m\u001b[1;32m     35\u001b[0m             \u001b[0mpng_pth\u001b[0m \u001b[0;34m=\u001b[0m \u001b[0mmalignant_image_path\u001b[0m \u001b[0;34m+\u001b[0m \u001b[0;34m\"/\"\u001b[0m\u001b[0;34m\u001b[0m\u001b[0;34m\u001b[0m\u001b[0m\n\u001b[1;32m     36\u001b[0m         \u001b[0;32melse\u001b[0m\u001b[0;34m:\u001b[0m\u001b[0;34m\u001b[0m\u001b[0;34m\u001b[0m\u001b[0m\n",
      "\u001b[0;31mIndexError\u001b[0m: list index out of range"
     ]
    }
   ],
   "source": [
    "clinical_train_path = os.path.join(\"/Volumes/Extreme/roi_data/manifest-LyDgOQGl3853937313152078328\",\"mass_case_description_train_set.csv\")\n",
    "clinical_test_path = os.path.join(\"/Volumes/Extreme/roi_data/manifest-OlX3eVq41551709337535597984\",\"mass_case_description_test_set.csv\")\n",
    "metadata_train_path = os.path.join(\"/Volumes/Extreme/roi_data/manifest-LyDgOQGl3853937313152078328\",\"metadata.csv\")\n",
    "metadata_test_path = os.path.join(\"/Volumes/Extreme/roi_data/manifest-OlX3eVq41551709337535597984\",\"metadata.csv\")\n",
    "train_image_path = os.path.join(\"/Volumes/Extreme/roi_data/manifest-LyDgOQGl3853937313152078328\")\n",
    "test_image_path = os.path.join(\"/Volumes/Extreme/roi_data/manifest-OlX3eVq41551709337535597984\")\n",
    "malignant_image_path = os.path.join(\"/Volumes/Extreme/roi_data/manifest-LyDgOQGl3853937313152078328\",\"malignant\")\n",
    "benign_image_path = os.path.join(\"/Volumes/Extreme/roi_data/manifest-LyDgOQGl3853937313152078328\",\"benign\")\n",
    "clinical_train = pd.read_csv(clinical_train_path, dtype=str)\n",
    "clinical_test = pd.read_csv(clinical_test_path, dtype=str)\n",
    "metadata_train = pd.read_csv(metadata_train_path, dtype=str)\n",
    "metadata_test = pd.read_csv(metadata_test_path, dtype=str)\n",
    "print(np.sum(clinical_train[\"pathology\"] == \"MALIGNANT\"))\n",
    "print(np.sum(clinical_train[\"pathology\"] == \"BENIGN\"))\n",
    "print(np.sum(clinical_test[\"pathology\"] == \"MALIGNANT\"))\n",
    "print(np.sum(clinical_test[\"pathology\"] == \"BENIGN\"))\n",
    "label = []\n",
    "subjectID = []\n",
    "for i,data in enumerate(clinical_train.iloc):\n",
    "    val = \"malignant\" if data[\"pathology\"] == \"MALIGNANT\" else \"benign\"\n",
    "    subjectID.append(data[\"cropped image file path\"].split(\"/\")[0])\n",
    "    label.append(val)\n",
    "# print(len(metadata_train), len(label))\n",
    "for i,data in enumerate(metadata_train.iloc):\n",
    "    dcm_pth = train_image_path + data[\"File Location\"][1:]\n",
    "    if dcm_pth.split(\"/\")[6][0] == '.':\n",
    "        continue\n",
    "    ID = data[\"Subject ID\"]\n",
    "    # print(dcm_pth)\n",
    "    for j,filename in enumerate(os.listdir(dcm_pth)): \n",
    "        if filename[0] == '.':\n",
    "            continue\n",
    "        index = subjectID.index(ID)\n",
    "        if label[i] == \"malignant\":\n",
    "            png_pth = malignant_image_path + \"/\"\n",
    "        else:\n",
    "            png_pth = benign_image_path + \"/\"\n",
    "        png_pth = png_pth + ID + \"-\" + filename[:-4] + \".png\"\n",
    "        dicom_image = pydicom.dcmread(dcm_pth + \"/\" + filename)\n",
    "        if dicom_image[(\"0008\", \"103e\")].value == \"cropped images\":\n",
    "            cv2.imwrite(png_pth, dicom_image.pixel_array)"
   ]
  },
  {
   "cell_type": "markdown",
   "metadata": {},
   "source": [
    "if you are running test, run this code"
   ]
  },
  {
   "cell_type": "code",
   "execution_count": 31,
   "metadata": {},
   "outputs": [
    {
     "ename": "IndexError",
     "evalue": "list index out of range",
     "output_type": "error",
     "traceback": [
      "\u001b[0;31m---------------------------------------------------------------------------\u001b[0m",
      "\u001b[0;31mIndexError\u001b[0m                                Traceback (most recent call last)",
      "\u001b[0;32m<ipython-input-31-7f88a1e80a9e>\u001b[0m in \u001b[0;36m<module>\u001b[0;34m\u001b[0m\n\u001b[1;32m     16\u001b[0m             \u001b[0;32mcontinue\u001b[0m\u001b[0;34m\u001b[0m\u001b[0;34m\u001b[0m\u001b[0m\n\u001b[1;32m     17\u001b[0m         \u001b[0mindex\u001b[0m \u001b[0;34m=\u001b[0m \u001b[0msubjectID\u001b[0m\u001b[0;34m.\u001b[0m\u001b[0mindex\u001b[0m\u001b[0;34m(\u001b[0m\u001b[0mID\u001b[0m\u001b[0;34m)\u001b[0m\u001b[0;34m\u001b[0m\u001b[0;34m\u001b[0m\u001b[0m\n\u001b[0;32m---> 18\u001b[0;31m         \u001b[0;32mif\u001b[0m \u001b[0mlabel\u001b[0m\u001b[0;34m[\u001b[0m\u001b[0mi\u001b[0m\u001b[0;34m]\u001b[0m \u001b[0;34m==\u001b[0m \u001b[0;34m\"malignant\"\u001b[0m\u001b[0;34m:\u001b[0m\u001b[0;34m\u001b[0m\u001b[0;34m\u001b[0m\u001b[0m\n\u001b[0m\u001b[1;32m     19\u001b[0m             \u001b[0mpng_pth\u001b[0m \u001b[0;34m=\u001b[0m \u001b[0mmalignant_image_path\u001b[0m \u001b[0;34m+\u001b[0m \u001b[0;34m\"/\"\u001b[0m\u001b[0;34m\u001b[0m\u001b[0;34m\u001b[0m\u001b[0m\n\u001b[1;32m     20\u001b[0m         \u001b[0;32melse\u001b[0m\u001b[0;34m:\u001b[0m\u001b[0;34m\u001b[0m\u001b[0;34m\u001b[0m\u001b[0m\n",
      "\u001b[0;31mIndexError\u001b[0m: list index out of range"
     ]
    }
   ],
   "source": [
    "label = []\n",
    "subjectID = []\n",
    "malignant_image_path = os.path.join(\"/Volumes/Extreme/roi_data/manifest-OlX3eVq41551709337535597984\",\"malignant\")\n",
    "benign_image_path = os.path.join(\"/Volumes/Extreme/roi_data/manifest-OlX3eVq41551709337535597984\",\"benign\")\n",
    "for i,data in enumerate(clinical_test.iloc):\n",
    "    val = \"malignant\" if data[\"pathology\"] == \"MALIGNANT\" else \"benign\"\n",
    "    subjectID.append(data[\"cropped image file path\"].split(\"/\")[0])\n",
    "    label.append(val)\n",
    "for i,data in enumerate(metadata_test.iloc):\n",
    "    dcm_pth = test_image_path + data[\"File Location\"][1:]\n",
    "    if dcm_pth.split(\"/\")[6][0] == '.':\n",
    "        continue\n",
    "    ID = data[\"Subject ID\"]\n",
    "    for j,filename in enumerate(os.listdir(dcm_pth)): \n",
    "        if filename[0] == '.':\n",
    "            continue\n",
    "        index = subjectID.index(ID)\n",
    "        if label[i] == \"malignant\":\n",
    "            png_pth = malignant_image_path + \"/\"\n",
    "        else:\n",
    "            png_pth = benign_image_path + \"/\"\n",
    "        png_pth = png_pth + ID + \"-\" + filename[:-4] + \".png\"\n",
    "        dicom_image = pydicom.dcmread(dcm_pth + \"/\" + filename)\n",
    "        if dicom_image[(\"0008\", \"103e\")].value == \"cropped images\":\n",
    "            cv2.imwrite(png_pth, dicom_image.pixel_array)"
   ]
  },
  {
   "cell_type": "code",
   "execution_count": 25,
   "metadata": {},
   "outputs": [],
   "source": [
    "path = '/Volumes/Extreme/roi_data/manifest-LyDgOQGl3853937313152078328/malignant'\n",
    "new_path_p = '/Volumes/Extreme/roi_data/manifest-LyDgOQGl3853937313152078328/malignant_preprocess'\n",
    "def preprocess(image):\n",
    "    img = cv2.equalizeHist(image)\n",
    "    gaussian_3 = cv2.GaussianBlur(img, (0, 0), 2.0)\n",
    "    unsharp_image = cv2.addWeighted(img, 2.0, gaussian_3, -1.0, 0)\n",
    "    median_image = cv2.medianBlur(unsharp_image, 3)\n",
    "    resized = cv2.resize(median_image, (224,224))\n",
    "    color_image = cv2.merge([resized] * 3)\n",
    "    return color_image\n",
    "\n",
    "train_path = os.path.join(\"/Volumes/Extreme/roi_data/manifest-LyDgOQGl3853937313152078328\")\n",
    "train_image_path = []\n",
    "train_label = []\n",
    "for i,filename in enumerate(os.listdir(train_path+\"/benign\")):\n",
    "    train_image_path.append((train_path+\"/benign/\"+filename,\"benign\"))\n",
    "for i,filename in enumerate(os.listdir(train_path+\"/malignant\")):\n",
    "    train_image_path.append((train_path+\"/malignant/\"+filename,\"malignant\"))\n",
    "for path,l in train_image_path:\n",
    "    img = cv2.imread(path,0)\n",
    "    hist = cv2.equalizeHist(img)\n",
    "    gaussian_3 = cv2.GaussianBlur(hist, (0, 0), 2.0)\n",
    "    unsharp_image = cv2.addWeighted(hist, 2.0, gaussian_3, -1.0, 0)\n",
    "    median_image = cv2.medianBlur(unsharp_image, 3)\n",
    "    img_bil = cv2.bilateralFilter(median_image, 5, 120, 120)\n",
    "    cv2.imwrite(path, img_bil)"
   ]
  },
  {
   "cell_type": "code",
   "execution_count": null,
   "metadata": {},
   "outputs": [],
   "source": []
  }
 ],
 "metadata": {
  "kernelspec": {
   "display_name": "base",
   "language": "python",
   "name": "python3"
  },
  "language_info": {
   "codemirror_mode": {
    "name": "ipython",
    "version": 3
   },
   "file_extension": ".py",
   "mimetype": "text/x-python",
   "name": "python",
   "nbconvert_exporter": "python",
   "pygments_lexer": "ipython3",
   "version": "3.8.8"
  }
 },
 "nbformat": 4,
 "nbformat_minor": 2
}
